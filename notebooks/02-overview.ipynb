{
 "cells": [
  {
   "cell_type": "code",
   "execution_count": 2,
   "metadata": {},
   "outputs": [
    {
     "name": "stderr",
     "output_type": "stream",
     "text": [
      "\u001b[32m2024-08-06 11:01:19.680\u001b[0m | \u001b[1mINFO    \u001b[0m | \u001b[36msimple_data_analysis.config\u001b[0m:\u001b[36m<module>\u001b[0m:\u001b[36m11\u001b[0m - \u001b[1mPROJ_ROOT path is: /home/morteza/workspace/projects/simple-data-analysis/.venv/src/simple-data-analysis\u001b[0m\n"
     ]
    }
   ],
   "source": [
    "from simple_data_analysis.config import RAW_DATA_DIR\n",
    "import pandas as pd\n",
    "\n",
    "VERSION = '1'"
   ]
  },
  {
   "cell_type": "markdown",
   "metadata": {},
   "source": [
    "# بررسی اولیه دیتا"
   ]
  },
  {
   "cell_type": "code",
   "execution_count": null,
   "metadata": {},
   "outputs": [],
   "source": [
    "\n",
    "dir = RAW_DATA_DIR / VERSION\n",
    "track = pd.read_csv(dir / \"Track.csv\")\n",
    "genre = pd.read_csv(dir / \"Genre.csv\")\n"
   ]
  }
 ],
 "metadata": {
  "kernelspec": {
   "display_name": ".venv",
   "language": "python",
   "name": "python3"
  },
  "language_info": {
   "codemirror_mode": {
    "name": "ipython",
    "version": 3
   },
   "file_extension": ".py",
   "mimetype": "text/x-python",
   "name": "python",
   "nbconvert_exporter": "python",
   "pygments_lexer": "ipython3",
   "version": "3.10.12"
  }
 },
 "nbformat": 4,
 "nbformat_minor": 2
}
